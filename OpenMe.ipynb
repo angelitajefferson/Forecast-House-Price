{
 "cells": [
  {
   "cell_type": "markdown",
   "metadata": {},
   "source": [
    "## Forecasting house price in Ashfield "
   ]
  },
  {
   "cell_type": "markdown",
   "metadata": {},
   "source": [
    "##### Forecasting the House Price ( $y$ = dependent variable )"
   ]
  },
  {
   "cell_type": "code",
   "execution_count": 1,
   "metadata": {},
   "outputs": [],
   "source": [
    "# import function and libraries \n",
    "from sklearn.linear_model import LinearRegression\n",
    "import numpy as np\n",
    "import pandas as pd\n",
    "import matplotlib.pyplot as plt\n",
    "import seaborn as sns\n",
    "\n",
    "# read the CSV file into a pandas dataframe\n",
    "ash_raw = pd.read_csv(\"ashfield.csv\")"
   ]
  },
  {
   "cell_type": "markdown",
   "metadata": {},
   "source": [
    "## 1. Data Cleansing"
   ]
  },
  {
   "cell_type": "code",
   "execution_count": 2,
   "metadata": {},
   "outputs": [
    {
     "name": "stdout",
     "output_type": "stream",
     "text": [
      "\u001b[1mInspecting data:\u001b[0;0m\n",
      "<class 'pandas.core.frame.DataFrame'>\n",
      "RangeIndex: 1080 entries, 0 to 1079\n",
      "Data columns (total 11 columns):\n",
      " #   Column      Non-Null Count  Dtype\n",
      "---  ------      --------------  -----\n",
      " 0   Price       1080 non-null   int64\n",
      " 1   SQFT        1080 non-null   int64\n",
      " 2   Bedrooms    1080 non-null   int64\n",
      " 3   Baths       1080 non-null   int64\n",
      " 4   Age         1080 non-null   int64\n",
      " 5   Occupancy   1080 non-null   int64\n",
      " 6   Pool        1080 non-null   int64\n",
      " 7   Style       1080 non-null   int64\n",
      " 8   Fireplace   1080 non-null   int64\n",
      " 9   Waterfront  1080 non-null   int64\n",
      " 10  DOM         1080 non-null   int64\n",
      "dtypes: int64(11)\n",
      "memory usage: 92.9 KB\n",
      "\u001b[1m\n",
      "Checking duplicates data:\u001b[0;0m\n",
      "False    1067\n",
      "True       13\n",
      "dtype: int64\n",
      "\u001b[1m\n",
      "Remove duplicates data:\u001b[0;0m\n",
      "Price         1067\n",
      "SQFT          1067\n",
      "Bedrooms      1067\n",
      "Baths         1067\n",
      "Age           1067\n",
      "Occupancy     1067\n",
      "Pool          1067\n",
      "Style         1067\n",
      "Fireplace     1067\n",
      "Waterfront    1067\n",
      "DOM           1067\n",
      "dtype: int64\n"
     ]
    }
   ],
   "source": [
    "print(\"\\033[1m\" + \"Inspecting data:\" + \"\\033[0;0m\")\n",
    "ash_raw.info()\n",
    "\n",
    "print(\"\\033[1m\" + \"\\nChecking duplicates data:\" + \"\\033[0;0m\")\n",
    "ash = print(ash_raw.duplicated().value_counts())\n",
    "\n",
    "print(\"\\033[1m\" + \"\\nRemove duplicates data:\" + \"\\033[0;0m\")\n",
    "ash = ash_raw.drop_duplicates()\n",
    "print(ash.count())"
   ]
  },
  {
   "cell_type": "markdown",
   "metadata": {},
   "source": [
    "## 2. Features Selection"
   ]
  },
  {
   "cell_type": "markdown",
   "metadata": {},
   "source": [
    "### 2.1 Forecasting the house price based on all independent variables"
   ]
  },
  {
   "cell_type": "code",
   "execution_count": 3,
   "metadata": {},
   "outputs": [
    {
     "data": {
      "text/plain": [
       "LinearRegression()"
      ]
     },
     "execution_count": 3,
     "metadata": {},
     "output_type": "execute_result"
    }
   ],
   "source": [
    "# 'Price' is the dependent variable\n",
    "y = ash[\"Price\"].to_numpy()\n",
    "\n",
    "# These are independent variables that affect the house price\n",
    "x = ash[[\"SQFT\",\"Bedrooms\",\"Baths\",\"Age\",\"Occupancy\",\"Pool\",\"Style\",\"Fireplace\",\"Waterfront\",\"DOM\"]].to_numpy()\n",
    "\n",
    "# Create the model\n",
    "linear_reg = LinearRegression() \n",
    "\n",
    "# Give the model some data to fit\n",
    "linear_reg.fit(x.reshape(-1,10),y)"
   ]
  },
  {
   "cell_type": "markdown",
   "metadata": {},
   "source": [
    "__Estimating parameters__\n",
    "\n",
    "To estimate the $\\beta$ parameters for the dataset analytically, the following formula is used:\n",
    "\n",
    "<img src=\"file_formula.png\" align=\"left\" width = 200\\>"
   ]
  },
  {
   "cell_type": "code",
   "execution_count": 4,
   "metadata": {},
   "outputs": [
    {
     "name": "stdout",
     "output_type": "stream",
     "text": [
      "beta 0: -50298.82\n",
      "beta 1: 85.17\n",
      "beta 2: -25033.26\n",
      "beta 3: 40356.08\n",
      "beta 4: -440.44\n",
      "beta 5: 6953.95\n",
      "beta 6: -1792.86\n",
      "beta 7: 1060.55\n",
      "beta 8: -3073.57\n",
      "beta 9: 56226.11\n",
      "beta 10: -21.18\n"
     ]
    }
   ],
   "source": [
    "rows = x.shape[0] # cleaned dataset\n",
    "\n",
    "# Create column of ones and stack it horizontally to calculate the intercept beta0\n",
    "ones = np.ones((rows,1))\n",
    "x = np.hstack((ones,x))\n",
    "\n",
    "# Estimating parameters\n",
    "betas = np.linalg.inv(x.T @ x) @ x.T @ y\n",
    "\n",
    "for i in range (11):\n",
    "    print(\"beta {}: {:.2f}\".format(i,betas[i]))\n"
   ]
  },
  {
   "cell_type": "markdown",
   "metadata": {},
   "source": [
    "__The full model to forecast the house price is:__\n",
    "\n",
    "$y$ = - 50,298.82 + 85.17 SQFT - 25,033.26 Bedrooms + 40,356.08 Baths - 440.44 Age + 6,953.95 Occupancy - 1,792.86 Pool + 1,060.55 Style - 3,073.57 Fireplace + 56,226.11 Waterfront - 21.18 DOM + $\\varepsilon$\n"
   ]
  },
  {
   "cell_type": "markdown",
   "metadata": {},
   "source": [
    "### 2.1.1 Full Model Evaluation"
   ]
  },
  {
   "cell_type": "code",
   "execution_count": 5,
   "metadata": {},
   "outputs": [
    {
     "name": "stdout",
     "output_type": "stream",
     "text": [
      "MSE Full Model: 5942137891.03\n"
     ]
    }
   ],
   "source": [
    "'''\n",
    "To evaluate the model,\n",
    "I break the data into a training set (used to fit the model) and\n",
    "a test set (unsenn samples to evaluate the full model)\n",
    "\n",
    "''' \n",
    "from sklearn.model_selection import train_test_split\n",
    "\n",
    "# To calculate the MSE (The average squared difference between predicted and true value)\n",
    "from sklearn.metrics import mean_squared_error as mse\n",
    "\n",
    "# Train-test split\n",
    "x_train, x_test, y_train, y_test = train_test_split(x, y, test_size=0.4, random_state = 1)\n",
    "\n",
    "# Build the regression model\n",
    "linear_reg = LinearRegression()\n",
    "linear_reg.fit(x_train,y_train) \n",
    "\n",
    "# Predict on the test data\n",
    "y_pred = linear_reg.predict(x_test)\n",
    "\n",
    "# Calculate the MSE\n",
    "test_mse = mse(y_pred,y_test)\n",
    "print(\"MSE Full Model: {:.2f}\".format(test_mse))"
   ]
  },
  {
   "cell_type": "code",
   "execution_count": 6,
   "metadata": {},
   "outputs": [
    {
     "name": "stdout",
     "output_type": "stream",
     "text": [
      "                            OLS Regression Results                            \n",
      "==============================================================================\n",
      "Dep. Variable:                      y   R-squared:                       0.633\n",
      "Model:                            OLS   Adj. R-squared:                  0.627\n",
      "Method:                 Least Squares   F-statistic:                     108.3\n",
      "Date:                Fri, 19 Feb 2021   Prob (F-statistic):          1.11e-129\n",
      "Time:                        00:28:17   Log-Likelihood:                -8084.4\n",
      "No. Observations:                 640   AIC:                         1.619e+04\n",
      "Df Residuals:                     629   BIC:                         1.624e+04\n",
      "Df Model:                          10                                         \n",
      "Covariance Type:            nonrobust                                         \n",
      "==============================================================================\n",
      "                 coef    std err          t      P>|t|      [0.025      0.975]\n",
      "------------------------------------------------------------------------------\n",
      "const      -2.068e+04   2.06e+04     -1.002      0.317   -6.12e+04    1.99e+04\n",
      "x1            88.6762      4.941     17.948      0.000      78.974      98.378\n",
      "x2         -2.486e+04   5709.264     -4.355      0.000   -3.61e+04   -1.37e+04\n",
      "x3           2.29e+04   7378.987      3.104      0.002    8410.282    3.74e+04\n",
      "x4          -672.6300    182.088     -3.694      0.000   -1030.203    -315.057\n",
      "x5          7431.7541   5491.994      1.353      0.176   -3353.108    1.82e+04\n",
      "x6           1.36e+04   1.14e+04      1.194      0.233   -8774.217     3.6e+04\n",
      "x7           639.7197    828.940      0.772      0.441    -988.105    2267.544\n",
      "x8           182.6474   6853.246      0.027      0.979   -1.33e+04    1.36e+04\n",
      "x9          7.044e+04   1.25e+04      5.625      0.000    4.58e+04     9.5e+04\n",
      "x10          -67.8473     31.738     -2.138      0.033    -130.173      -5.521\n",
      "==============================================================================\n",
      "Omnibus:                      750.539   Durbin-Watson:                   1.968\n",
      "Prob(Omnibus):                  0.000   Jarque-Bera (JB):            99868.107\n",
      "Skew:                           5.458   Prob(JB):                         0.00\n",
      "Kurtosis:                      63.215   Cond. No.                     1.84e+04\n",
      "==============================================================================\n",
      "\n",
      "Warnings:\n",
      "[1] Standard Errors assume that the covariance matrix of the errors is correctly specified.\n",
      "[2] The condition number is large, 1.84e+04. This might indicate that there are\n",
      "strong multicollinearity or other numerical problems.\n"
     ]
    }
   ],
   "source": [
    "import statsmodels.api as sm\n",
    "\n",
    "mod = sm.OLS(y_train, x_train)\n",
    "res = mod.fit()\n",
    "print(res.summary())"
   ]
  },
  {
   "cell_type": "markdown",
   "metadata": {},
   "source": [
    "#### Conclusion:\n",
    "The full model has high Mean Squared Error. Hence, to reduce the MSE and produce more accurate model, I reduce the model by excluding independent variables that the most insignificant. In this case, the independent variables that have __p-value > 0.05 are removed__."
   ]
  },
  {
   "cell_type": "markdown",
   "metadata": {},
   "source": [
    "### 2.2 Forecasting the house price based on 4 significant independent variables"
   ]
  },
  {
   "cell_type": "code",
   "execution_count": 7,
   "metadata": {},
   "outputs": [
    {
     "name": "stdout",
     "output_type": "stream",
     "text": [
      "beta 0: -30708.32\n",
      "beta 1: 87.32\n",
      "beta 2: -28302.06\n",
      "beta 3: 42004.71\n",
      "beta 4: -545.71\n"
     ]
    }
   ],
   "source": [
    "# 'Price' is the dependent variable\n",
    "y = ash[\"Price\"].to_numpy()\n",
    "\n",
    "# These are independent variables that affect the house price\n",
    "xnew = ash[[\"SQFT\",\"Bedrooms\",\"Baths\",\"Age\"]].to_numpy()\n",
    "\n",
    "rows = xnew.shape[0] # 1067 rows\n",
    "\n",
    "# Create column of ones and stack it horizontally to calculate the intercept beta0\n",
    "ones = np.ones((rows,1))\n",
    "xnew = np.hstack((ones,xnew))\n",
    "\n",
    "# Estimating parameters\n",
    "betas = np.linalg.inv(xnew.T @ xnew) @ xnew.T @ y\n",
    "\n",
    "for i in range (5):\n",
    "    print(\"beta {}: {:.2f}\".format(i,betas[i]))"
   ]
  },
  {
   "cell_type": "markdown",
   "metadata": {},
   "source": [
    "#### The reduced model to forecast the house price is:\n",
    "\n",
    "$y$ = -30,708.32 + 87.32 SQFT - 28,302.06 Bedrooms + 42,004.71 Baths - 545.71 Age + $\\varepsilon$"
   ]
  },
  {
   "cell_type": "markdown",
   "metadata": {},
   "source": [
    "### 2.2.1 Reduced Model Evaluation"
   ]
  },
  {
   "cell_type": "code",
   "execution_count": 8,
   "metadata": {},
   "outputs": [
    {
     "name": "stdout",
     "output_type": "stream",
     "text": [
      "MSE Reduced Model: 5909493495.01\n"
     ]
    }
   ],
   "source": [
    "# Train-test split\n",
    "xnew_train, xnew_test, y_train, y_test = train_test_split(xnew, y, test_size=0.4, random_state = 1)\n",
    "\n",
    "# Build the regression model\n",
    "linear_reg = LinearRegression()\n",
    "linear_reg.fit(xnew_train,y_train) \n",
    "\n",
    "# Predict on the test data\n",
    "y_pred = linear_reg.predict(xnew_test)\n",
    "\n",
    "# Calculate the MSE\n",
    "test_mse = mse(y_pred,y_test)\n",
    "print(\"MSE Reduced Model: {:.2f}\".format(test_mse))"
   ]
  },
  {
   "cell_type": "code",
   "execution_count": 9,
   "metadata": {},
   "outputs": [
    {
     "name": "stdout",
     "output_type": "stream",
     "text": [
      "                            OLS Regression Results                            \n",
      "==============================================================================\n",
      "Dep. Variable:                      y   R-squared:                       0.609\n",
      "Model:                            OLS   Adj. R-squared:                  0.607\n",
      "Method:                 Least Squares   F-statistic:                     247.3\n",
      "Date:                Fri, 19 Feb 2021   Prob (F-statistic):          6.07e-128\n",
      "Time:                        00:28:17   Log-Likelihood:                -8104.3\n",
      "No. Observations:                 640   AIC:                         1.622e+04\n",
      "Df Residuals:                     635   BIC:                         1.624e+04\n",
      "Df Model:                           4                                         \n",
      "Covariance Type:            nonrobust                                         \n",
      "==============================================================================\n",
      "                 coef    std err          t      P>|t|      [0.025      0.975]\n",
      "------------------------------------------------------------------------------\n",
      "const      -1084.4444   1.65e+04     -0.066      0.948   -3.36e+04    3.14e+04\n",
      "x1            94.6130      4.816     19.647      0.000      85.156     104.070\n",
      "x2         -3.057e+04   5743.438     -5.322      0.000   -4.18e+04   -1.93e+04\n",
      "x3           2.37e+04   7368.866      3.216      0.001    9225.426    3.82e+04\n",
      "x4          -764.2857    182.108     -4.197      0.000   -1121.891    -406.680\n",
      "==============================================================================\n",
      "Omnibus:                      800.673   Durbin-Watson:                   1.980\n",
      "Prob(Omnibus):                  0.000   Jarque-Bera (JB):           125812.430\n",
      "Skew:                           6.088   Prob(JB):                         0.00\n",
      "Kurtosis:                      70.600   Cond. No.                     1.45e+04\n",
      "==============================================================================\n",
      "\n",
      "Warnings:\n",
      "[1] Standard Errors assume that the covariance matrix of the errors is correctly specified.\n",
      "[2] The condition number is large, 1.45e+04. This might indicate that there are\n",
      "strong multicollinearity or other numerical problems.\n"
     ]
    }
   ],
   "source": [
    "# Regression result for reduced model\n",
    "\n",
    "mod_new = sm.OLS(y_train, xnew_train)\n",
    "res_new = mod_new.fit()\n",
    "print(res_new.summary())"
   ]
  },
  {
   "cell_type": "markdown",
   "metadata": {},
   "source": [
    "#### Conclusion:\n",
    "The MSE for reduced model is lower than the full model and all the independent variables have p-value < 0.05 and there is no 0 included in the confidence interval.\n",
    "Hence, there is sufficient evidence to show that reduced model is better."
   ]
  },
  {
   "cell_type": "markdown",
   "metadata": {},
   "source": [
    "## 3. Data Visualisation"
   ]
  },
  {
   "cell_type": "markdown",
   "metadata": {},
   "source": [
    "### 3.1 SQFT Vs House Price"
   ]
  },
  {
   "cell_type": "code",
   "execution_count": 10,
   "metadata": {},
   "outputs": [
    {
     "data": {
      "image/png": "[encoded data removed]",
      "text/plain": [
       "<Figure size 432x288 with 1 Axes>"
      ]
     },
     "metadata": {
      "needs_background": "light"
     },
     "output_type": "display_data"
    }
   ],
   "source": [
    "plt.scatter(ash[\"SQFT\"], ash[\"Price\"], alpha = 0.5)\n",
    "outlier = ash.query(\"SQFT > 6300\")\n",
    "plt.scatter(outlier[\"SQFT\"], outlier[\"Price\"], alpha = 0.5, c = 'red')\n",
    "\n",
    "m,b = np.polyfit(ash[\"SQFT\"], ash[\"Price\"],1)\n",
    "plt.plot(ash[\"SQFT\"], m * ash[\"SQFT\"] + b, c = 'black')\n",
    "\n",
    "plt.xlabel(\"SQFT\")\n",
    "plt.ylabel(\"House Price\")\n",
    "plt.title(\"SQFT vs House Price\")\n",
    "plt.show()"
   ]
  },
  {
   "cell_type": "markdown",
   "metadata": {},
   "source": [
    "The scatter plot above show that the SQFT and the house price has a positive linear relationship, and there are some datas which are identified as outliers (SQFT more than 6000)."
   ]
  },
  {
   "cell_type": "markdown",
   "metadata": {},
   "source": [
    "### 3.2 Bedrooms Vs House Price"
   ]
  },
  {
   "cell_type": "code",
   "execution_count": 11,
   "metadata": {},
   "outputs": [
    {
     "data": {
      "image/png": "[encoded data removed]",
      "text/plain": [
       "<Figure size 432x288 with 1 Axes>"
      ]
     },
     "metadata": {
      "needs_background": "light"
     },
     "output_type": "display_data"
    },
    {
     "name": "stdout",
     "output_type": "stream",
     "text": [
      "          size           mean\n",
      "Bedrooms                     \n",
      "1            5   76800.000000\n",
      "2          127   93209.157480\n",
      "3          631  129499.752773\n",
      "4          278  213526.985612\n",
      "5           23  502822.695652\n",
      "6            1  425000.000000\n",
      "7            1  374000.000000\n",
      "8            1  125000.000000\n"
     ]
    }
   ],
   "source": [
    "avg_bed = ash.groupby(\"Bedrooms\").Price.mean()\n",
    "\n",
    "xbed = [1,2,3,4,5,6,7,8]\n",
    "plt.bar(xbed, avg_bed)\n",
    "plt.xlabel(\"Bedrooms\")\n",
    "plt.ylabel(\"Average House Price\")\n",
    "plt.title(\"Bedrooms vs Average House Price\")\n",
    "plt.show()\n",
    "\n",
    "bedrooms = ash.groupby([\"Bedrooms\"]).Price.agg([np.size, np.mean])\n",
    "print(bedrooms)"
   ]
  },
  {
   "cell_type": "markdown",
   "metadata": {},
   "source": [
    "The dataset only has 1 sample house price information for each 6,7,8 bedrooms. As seen on the table and graph above, the average price of the 6,7,8 bedrooms are lower than the 5 bedrooms' price. This might be possible if the unit does not have any other benefits, such as extremely far from the CBD, overage, huge renovation cost needed, etc."
   ]
  },
  {
   "cell_type": "markdown",
   "metadata": {},
   "source": [
    "### 3.3 Baths Vs House Price"
   ]
  },
  {
   "cell_type": "code",
   "execution_count": 12,
   "metadata": {},
   "outputs": [
    {
     "data": {
      "image/png": "[encoded data removed]",
      "text/plain": [
       "<Figure size 432x288 with 1 Axes>"
      ]
     },
     "metadata": {},
     "output_type": "display_data"
    },
    {
     "name": "stdout",
     "output_type": "stream",
     "text": [
      "         amin     amax  size           mean\n",
      "Baths                                      \n",
      "1       22000   230777   178   77675.466292\n",
      "2       31900   442500   760  142311.239474\n",
      "3       74900  1280000   107  277417.345794\n",
      "4      245000  1580000    17  568641.176471\n",
      "5      360000  1400000     5  890400.000000\n"
     ]
    }
   ],
   "source": [
    "sns.set_style(\"whitegrid\")\n",
    "tips = sns.load_dataset(\"tips\")\n",
    "ax = sns.boxplot(ash[\"Baths\"], ash[\"Price\"], data=tips)\n",
    "plt.title(\"Baths vs House Price\")\n",
    "plt.show()\n",
    "\n",
    "baths = ash.groupby([\"Baths\"]).Price.agg([np.min, np.max, np.size, np.mean])\n",
    "print(baths)\n"
   ]
  },
  {
   "cell_type": "markdown",
   "metadata": {},
   "source": [
    "As seen on the graph and table above, bath and house price also have a positive linear relationship. The more baths a unit has, the house price would be higher."
   ]
  },
  {
   "cell_type": "markdown",
   "metadata": {},
   "source": [
    "### 3.4 Age Vs House Price"
   ]
  },
  {
   "cell_type": "code",
   "execution_count": 13,
   "metadata": {},
   "outputs": [
    {
     "data": {
      "image/png": "[encoded data removed]",
      "text/plain": [
       "<Figure size 432x288 with 1 Axes>"
      ]
     },
     "metadata": {},
     "output_type": "display_data"
    },
    {
     "name": "stdout",
     "output_type": "stream",
     "text": [
      "\u001b[1mAge Bins\u001b[0;0m\n"
     ]
    },
    {
     "data": {
      "text/plain": [
       "(0.921, 14.167]     485\n",
       "(14.167, 27.333]    317\n",
       "(27.333, 40.5]      133\n",
       "(40.5, 53.667]       81\n",
       "(53.667, 66.833]     43\n",
       "(66.833, 80.0]        8\n",
       "Name: Age, dtype: int64"
      ]
     },
     "execution_count": 13,
     "metadata": {},
     "output_type": "execute_result"
    }
   ],
   "source": [
    "plt.hist(ash[\"Age\"], bins = 6)\n",
    "plt.xlabel(\"Age\")\n",
    "plt.ylabel(\"House Price\")\n",
    "plt.title(\"Age vs House Price\")\n",
    "plt.show()\n",
    "\n",
    "print(\"\\033[1m\" + \"Age Bins\" + \"\\033[0;0m\")\n",
    "pd.cut(ash[\"Age\"], bins = 6).value_counts().sort_index()"
   ]
  },
  {
   "cell_type": "markdown",
   "metadata": {},
   "source": [
    "As seen on the histogram above, the older the house, the lower the price. On the other hand, if the house is new, it would be sell in a higher price. These 2 variables have negative linear relationship."
   ]
  },
  {
   "cell_type": "markdown",
   "metadata": {},
   "source": [
    "## 4. Alternative Models to Forecast"
   ]
  },
  {
   "cell_type": "markdown",
   "metadata": {},
   "source": [
    "### 4.1 Linear Regression"
   ]
  },
  {
   "cell_type": "code",
   "execution_count": 14,
   "metadata": {},
   "outputs": [
    {
     "name": "stdout",
     "output_type": "stream",
     "text": [
      "\n",
      "\u001b[1mLinear Regression Model Prediction\u001b[0;0m\n",
      "       SQFT  Bedrooms  Baths   Age  Linear_Reg_Price\n",
      "0    1588.0       3.0    2.0   5.0     101027.874140\n",
      "1    2226.0       3.0    2.0   8.0     159098.105744\n",
      "2    2246.0       3.0    2.0   2.0     165576.079548\n",
      "3    4834.0       4.0    4.0   1.0     428022.517379\n",
      "4    1751.0       3.0    2.0   5.0     116449.791758\n",
      "..      ...       ...    ...   ...               ...\n",
      "422  2554.0       3.0    2.0  45.0     161852.597458\n",
      "423  2842.0       4.0    2.0   1.0     192162.001234\n",
      "424  2923.0       4.0    2.0  13.0     190654.225600\n",
      "425  1917.0       3.0    2.0  18.0     122219.834741\n",
      "426  2016.0       3.0    2.0   5.0     141522.234511\n",
      "\n",
      "[427 rows x 5 columns]\n"
     ]
    }
   ],
   "source": [
    "# Using linear regression model to predict house price\n",
    "\n",
    "xnew_test_SQFT = xnew_test[:,1:2].tolist()\n",
    "xnew_test_Bedrooms = xnew_test[:,2:3].tolist()\n",
    "xnew_test_Baths = xnew_test[:,3:4].tolist()\n",
    "xnew_test_Age = xnew_test[:,4:5].tolist()\n",
    "\n",
    "print(\"\\n\" \"\\033[1m\" + \"Linear Regression Model Prediction\" + \"\\033[0;0m\")\n",
    "linreg_model_data = pd.DataFrame({\"SQFT\": xnew_test_SQFT, \n",
    "                                  \"Bedrooms\": xnew_test_Bedrooms, \n",
    "                                  \"Baths\": xnew_test_Baths, \n",
    "                                  \"Age\": xnew_test_Age, \n",
    "                                  \"Linear_Reg_Price\": y_pred})\n",
    "\n",
    "linreg_model_data['SQFT'] = linreg_model_data['SQFT'].str.get(0)\n",
    "linreg_model_data['Bedrooms'] = linreg_model_data['Bedrooms'].str.get(0)\n",
    "linreg_model_data['Baths'] = linreg_model_data['Baths'].str.get(0)\n",
    "linreg_model_data['Age'] = linreg_model_data['Age'].str.get(0)\n",
    "\n",
    "\n",
    "print(str(linreg_model_data))"
   ]
  },
  {
   "cell_type": "markdown",
   "metadata": {},
   "source": [
    "### 4.2 Random Forest Regressor"
   ]
  },
  {
   "cell_type": "code",
   "execution_count": 15,
   "metadata": {},
   "outputs": [
    {
     "name": "stdout",
     "output_type": "stream",
     "text": [
      "\n",
      "\u001b[1mForest Model Prediction\u001b[0;0m\n",
      "       SQFT  Bedrooms  Baths   Age  Forest_Mod_Price\n",
      "0    1588.0       3.0    2.0   5.0     109989.000000\n",
      "1    2226.0       3.0    2.0   8.0     163004.000000\n",
      "2    2246.0       3.0    2.0   2.0     167379.860000\n",
      "3    4834.0       4.0    4.0   1.0     328064.200000\n",
      "4    1751.0       3.0    2.0   5.0     108726.000000\n",
      "..      ...       ...    ...   ...               ...\n",
      "422  2554.0       3.0    2.0  45.0     123566.590000\n",
      "423  2842.0       4.0    2.0   1.0     167366.066667\n",
      "424  2923.0       4.0    2.0  13.0     186571.333333\n",
      "425  1917.0       3.0    2.0  18.0      99571.000000\n",
      "426  2016.0       3.0    2.0   5.0     137330.000000\n",
      "\n",
      "[427 rows x 5 columns]\n",
      "\n"
     ]
    }
   ],
   "source": [
    "# Using random forest model to predict house price\n",
    "\n",
    "from sklearn.ensemble import RandomForestRegressor\n",
    "\n",
    "forest_model = RandomForestRegressor(random_state = 1)\n",
    "forest_model.fit(xnew_train, y_train)\n",
    "forest_model_predictions = forest_model.predict(xnew_test)\n",
    "\n",
    "print(\"\\n\" \"\\033[1m\" + \"Forest Model Prediction\" + \"\\033[0;0m\")\n",
    "\n",
    "forest_model_data = pd.DataFrame({\"SQFT\": xnew_test_SQFT, \n",
    "                                  \"Bedrooms\": xnew_test_Bedrooms, \n",
    "                                  \"Baths\": xnew_test_Baths, \n",
    "                                  \"Age\": xnew_test_Age, \n",
    "                                  \"Forest_Mod_Price\": forest_model_predictions})\n",
    "\n",
    "forest_model_data['SQFT'] = forest_model_data['SQFT'].str.get(0)\n",
    "forest_model_data['Bedrooms'] = forest_model_data['Bedrooms'].str.get(0)\n",
    "forest_model_data['Baths'] = forest_model_data['Baths'].str.get(0)\n",
    "forest_model_data['Age'] = forest_model_data['Age'].str.get(0)\n",
    "\n",
    "print(str(forest_model_data) + \"\\n\")"
   ]
  },
  {
   "cell_type": "markdown",
   "metadata": {},
   "source": [
    "### 4.3 Decision Tree Regressor"
   ]
  },
  {
   "cell_type": "code",
   "execution_count": 16,
   "metadata": {},
   "outputs": [
    {
     "name": "stdout",
     "output_type": "stream",
     "text": [
      "\n",
      "\u001b[1mDecision Tree Model Prediction\u001b[0;0m\n",
      "       SQFT  Bedrooms  Baths   Age  Tree_Mod_Price\n",
      "0    1588.0       3.0    2.0   5.0         75000.0\n",
      "1    2226.0       3.0    2.0   8.0        187400.0\n",
      "2    2246.0       3.0    2.0   2.0        172000.0\n",
      "3    4834.0       4.0    4.0   1.0        215000.0\n",
      "4    1751.0       3.0    2.0   5.0         95000.0\n",
      "..      ...       ...    ...   ...             ...\n",
      "422  2554.0       3.0    2.0  45.0        118500.0\n",
      "423  2842.0       4.0    2.0   1.0        155615.0\n",
      "424  2923.0       4.0    2.0  13.0        182000.0\n",
      "425  1917.0       3.0    2.0  18.0         78000.0\n",
      "426  2016.0       3.0    2.0   5.0        115000.0\n",
      "\n",
      "[427 rows x 5 columns]\n",
      "\n"
     ]
    }
   ],
   "source": [
    "# Using random decision tree model to predict house price\n",
    "from sklearn.tree import DecisionTreeRegressor\n",
    "\n",
    "tree_model = DecisionTreeRegressor(random_state = 1)\n",
    "tree_model.fit(xnew_train, y_train)\n",
    "tree_model_predictions = tree_model.predict(xnew_test)\n",
    "\n",
    "print(\"\\n\" \"\\033[1m\" + \"Decision Tree Model Prediction\" + \"\\033[0;0m\")\n",
    "\n",
    "tree_model_data = pd.DataFrame({\"SQFT\": xnew_test_SQFT, \n",
    "                                \"Bedrooms\": xnew_test_Bedrooms, \n",
    "                                \"Baths\": xnew_test_Baths, \n",
    "                                \"Age\": xnew_test_Age, \n",
    "                                \"Tree_Mod_Price\": tree_model_predictions})\n",
    "\n",
    "tree_model_data['SQFT'] = tree_model_data['SQFT'].str.get(0)\n",
    "tree_model_data['Bedrooms'] = tree_model_data['Bedrooms'].str.get(0)\n",
    "tree_model_data['Baths'] = tree_model_data['Baths'].str.get(0)\n",
    "tree_model_data['Age'] = tree_model_data['Age'].str.get(0)\n",
    "\n",
    "print(str(tree_model_data) + \"\\n\")"
   ]
  },
  {
   "cell_type": "markdown",
   "metadata": {},
   "source": [
    "### 4.4 Models Comparison"
   ]
  },
  {
   "cell_type": "code",
   "execution_count": 17,
   "metadata": {},
   "outputs": [
    {
     "name": "stdout",
     "output_type": "stream",
     "text": [
      "\n",
      "\u001b[1mLinear Regression Model Prediction\u001b[0;0m\n",
      "       SQFT  Bedrooms  Baths   Age  Linear_Reg_Price\n",
      "104  5216.0       4.0    3.0  25.0     422126.105729\n",
      "69   5736.0       4.0    3.0  25.0     471324.861320\n",
      "255  6203.0       7.0    4.0  25.0     447501.726109\n",
      "116  7249.0       5.0    5.0  35.0     623655.190980\n",
      "\n",
      "\u001b[1mForest Model Prediction\u001b[0;0m\n",
      "       SQFT  Bedrooms  Baths   Age  Forest_Mod_Price\n",
      "104  5216.0       4.0    3.0  25.0         356543.46\n",
      "69   5736.0       4.0    3.0  25.0         413136.58\n",
      "255  6203.0       7.0    4.0  25.0         495630.00\n",
      "116  7249.0       5.0    5.0  35.0        1417450.00\n",
      "\n",
      "\u001b[1mDecision Tree Model Prediction\u001b[0;0m\n",
      "       SQFT  Bedrooms  Baths   Age  Tree_Mod_Price\n",
      "104  5216.0       4.0    3.0  25.0        540000.0\n",
      "69   5736.0       4.0    3.0  25.0        617000.0\n",
      "255  6203.0       7.0    4.0  25.0        575000.0\n",
      "116  7249.0       5.0    5.0  35.0       1280000.0\n",
      "\n",
      "\u001b[1mActual Data\u001b[0;0m\n",
      "        Price  SQFT  Bedrooms  Baths  Age\n",
      "430    230000  5216         4      3   25\n",
      "432    419900  5736         4      3   25\n",
      "1079   374000  6203         7      4   25\n",
      "971   1260000  7249         5      5   35\n"
     ]
    }
   ],
   "source": [
    "'''\n",
    "Random query to see the result from 3 models\n",
    "    SQFT > 5000\n",
    "    Bedrooms > 2\n",
    "    Baths > 2\n",
    "    Age > 20\n",
    "'''\n",
    "\n",
    "# Result from 3 models\n",
    "\n",
    "print(\"\\n\" \"\\033[1m\" + \"Linear Regression Model Prediction\" + \"\\033[0;0m\")\n",
    "print(linreg_model_data.sort_values(\"SQFT\").loc[(linreg_model_data['SQFT'] > 5000) \n",
    "                                                & (linreg_model_data['Bedrooms'] > 2) \n",
    "                                                & (linreg_model_data['Baths'] > 2) \n",
    "                                                & (linreg_model_data['Age'] > 20)])\n",
    "\n",
    "print(\"\\n\" \"\\033[1m\" + \"Forest Model Prediction\" + \"\\033[0;0m\")\n",
    "print(forest_model_data.sort_values(\"SQFT\").loc[(forest_model_data['SQFT'] > 5000) \n",
    "                                                & (forest_model_data['Bedrooms'] > 2) \n",
    "                                                & (forest_model_data['Baths'] > 2) \n",
    "                                                & (forest_model_data['Age'] > 20)])\n",
    "\n",
    "print(\"\\n\" \"\\033[1m\" + \"Decision Tree Model Prediction\" + \"\\033[0;0m\")\n",
    "print(tree_model_data.sort_values(\"SQFT\").loc[(tree_model_data['SQFT'] > 5000) \n",
    "                                              & (tree_model_data['Bedrooms'] > 2) \n",
    "                                              & (tree_model_data['Baths'] > 2) \n",
    "                                              & (tree_model_data['Age'] > 20)])\n",
    "\n",
    "\n",
    "# Result from the actual dataset\n",
    "actual_data = ash.query(\"SQFT == 5736 | SQFT == 5216| SQFT == 7249| SQFT == 6203\").sort_values(\"SQFT\")\n",
    "print(\"\\n\" \"\\033[1m\" + \"Actual Data\" + \"\\033[0;0m\")\n",
    "print(actual_data.iloc[:,:5])"
   ]
  },
  {
   "cell_type": "markdown",
   "metadata": {},
   "source": [
    "### MSE Comparisons Between Models"
   ]
  },
  {
   "cell_type": "code",
   "execution_count": 18,
   "metadata": {},
   "outputs": [
    {
     "name": "stdout",
     "output_type": "stream",
     "text": [
      "\n",
      "\u001b[1mMSE Comparison\u001b[0;0m\n",
      "MSE Linear Regression Model: 5909493495.01\n",
      "MSE Random Forest Regressor Model: 7438997028.43\n",
      "MSE Decision Tree Regressor Model: 9891580634.72\n"
     ]
    }
   ],
   "source": [
    "print(\"\\n\" \"\\033[1m\" + \"MSE Comparison\" + \"\\033[0;0m\")\n",
    "\n",
    "# Calculate linreg MSE\n",
    "linreg_mse = mse(y_pred,y_test)\n",
    "print(\"MSE Linear Regression Model: {:.2f}\".format(linreg_mse))\n",
    "\n",
    "# Calculate forest MSE\n",
    "forest_mse = mse(forest_model_predictions,y_test)\n",
    "print(\"MSE Random Forest Regressor Model: {:.2f}\".format(forest_mse))\n",
    "\n",
    "# Calculate tree MSE\n",
    "tree_mse = mse(tree_model_predictions,y_test)\n",
    "print(\"MSE Decision Tree Regressor Model: {:.2f}\".format(tree_mse))\n"
   ]
  },
  {
   "cell_type": "markdown",
   "metadata": {},
   "source": [
    "##### Conclusion:\n",
    "The best model is Linear regression model (Lowest MSE) and the worst model is Decision tree regressor (Highest MSE)"
   ]
  }
 ],
 "metadata": {
  "kernelspec": {
   "display_name": "Python 3",
   "language": "python",
   "name": "python3"
  },
  "language_info": {
   "codemirror_mode": {
    "name": "ipython",
    "version": 3
   },
   "file_extension": ".py",
   "mimetype": "text/x-python",
   "name": "python",
   "nbconvert_exporter": "python",
   "pygments_lexer": "ipython3",
   "version": "3.8.3"
  }
 },
 "nbformat": 4,
 "nbformat_minor": 4
}
